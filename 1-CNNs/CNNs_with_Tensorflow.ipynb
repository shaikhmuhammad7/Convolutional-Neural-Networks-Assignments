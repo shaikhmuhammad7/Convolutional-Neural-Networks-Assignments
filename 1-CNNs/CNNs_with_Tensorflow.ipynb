{
 "cells": [
  {
   "cell_type": "markdown",
   "metadata": {
    "id": "4ZHnCbSsLFHv"
   },
   "source": [
    "# Mood Classifier using Sequential Model and Sign Language Digits classifier using Functional API"
   ]
  },
  {
   "cell_type": "markdown",
   "metadata": {
    "id": "LWrZL1NDatuG"
   },
   "source": [
    "### Links:\n",
    "\n",
    "> Sequential model: https://www.tensorflow.org/guide/keras/sequential_model\n",
    "\n",
    "> Functional API: https://www.tensorflow.org/guide/keras/functional"
   ]
  },
  {
   "cell_type": "code",
   "execution_count": 1,
   "metadata": {
    "id": "SNefQsdIlmOB"
   },
   "outputs": [],
   "source": [
    "# Import packages\n",
    "import math\n",
    "import scipy\n",
    "import pandas as pd\n",
    "from PIL import Image\n",
    "import h5py\n",
    "import matplotlib.pyplot as plt\n",
    "from matplotlib.pyplot import imread\n",
    "import tensorflow as tf\n",
    "import tensorflow.keras.layers as tfl\n",
    "from tensorflow.python.framework import ops\n",
    "\n",
    "# Utility files\n",
    "from cnn_utils import *\n",
    "from test_utils import summary, comparator\n",
    "\n",
    "%matplotlib inline"
   ]
  },
  {
   "cell_type": "code",
   "execution_count": 2,
   "metadata": {
    "colab": {
     "base_uri": "https://localhost:8080/"
    },
    "id": "sB6zAAtZYGNA",
    "outputId": "5093e74c-f398-4271-8f49-48a3855dd145"
   },
   "outputs": [
    {
     "name": "stdout",
     "output_type": "stream",
     "text": [
      "2.3.0\n"
     ]
    }
   ],
   "source": [
    "print(tf. __version__)"
   ]
  },
  {
   "cell_type": "markdown",
   "metadata": {
    "id": "5Zc3b1PIYNvk"
   },
   "source": [
    "## Sequential Model"
   ]
  },
  {
   "cell_type": "markdown",
   "metadata": {
    "id": "dxNdVATlPcI1"
   },
   "source": [
    "**Task:** create a model that determines whether the people in the images are smiling or not.\n",
    "\n",
    "**Sequential model in a nutshell:** Helps build the model layer by layer. Ideal for  One input tensor and one output tensor. Works like a Python list and is suitable for linear models."
   ]
  },
  {
   "cell_type": "markdown",
   "metadata": {},
   "source": [
    "### Prepare the data"
   ]
  },
  {
   "cell_type": "code",
   "execution_count": 3,
   "metadata": {
    "id": "LcVrIbG-mQ08"
   },
   "outputs": [],
   "source": [
    "# Split the dataset\n",
    "X_train_orig, Y_train_orig, X_test_orig, Y_test_orig, classes = load_happy_dataset()\n",
    "\n",
    "# Normalize image vectors\n",
    "X_train = X_train_orig/255\n",
    "X_test = X_test_orig/255\n",
    "\n",
    "# Reshape\n",
    "Y_train = Y_train_orig.T\n",
    "Y_test = Y_test_orig.T"
   ]
  },
  {
   "cell_type": "code",
   "execution_count": 4,
   "metadata": {
    "colab": {
     "base_uri": "https://localhost:8080/"
    },
    "id": "p-xvme8AmU2j",
    "outputId": "6a1b2888-0e3c-4c92-aeb7-860690d05a73"
   },
   "outputs": [
    {
     "name": "stdout",
     "output_type": "stream",
     "text": [
      "Number of training examples =  600\n",
      "Number of test examples =  150\n"
     ]
    }
   ],
   "source": [
    "print(\"Number of training examples = \", X_train.shape[0])\n",
    "print(\"Number of test examples = \", X_test.shape[0])"
   ]
  },
  {
   "cell_type": "code",
   "execution_count": 5,
   "metadata": {},
   "outputs": [
    {
     "data": {
      "text/plain": [
       "((600, 64, 64, 3), (150, 64, 64, 3))"
      ]
     },
     "execution_count": 5,
     "metadata": {},
     "output_type": "execute_result"
    }
   ],
   "source": [
    "# Shape of training and test sets\n",
    "X_train.shape, X_test.shape"
   ]
  },
  {
   "cell_type": "code",
   "execution_count": 6,
   "metadata": {
    "id": "HOh8j4yDmXWq"
   },
   "outputs": [],
   "source": [
    "input_shape = X_train.shape[1:]"
   ]
  },
  {
   "cell_type": "code",
   "execution_count": 7,
   "metadata": {
    "colab": {
     "base_uri": "https://localhost:8080/",
     "height": 268
    },
    "id": "szUUCxatmZoG",
    "outputId": "9826ed62-26d9-4c64-d1ce-e7b4097a766f"
   },
   "outputs": [
    {
     "data": {
      "image/png": "[encoded data removed]",
      "text/plain": [
       "<Figure size 432x288 with 1 Axes>"
      ]
     },
     "metadata": {
      "needs_background": "light"
     },
     "output_type": "display_data"
    }
   ],
   "source": [
    "# View an image from our training set\n",
    "index = 599\n",
    "plt.imshow(X_train_orig[index])\n",
    "plt.show()"
   ]
  },
  {
   "cell_type": "code",
   "execution_count": 8,
   "metadata": {
    "id": "VZMtfld6mqVS"
   },
   "outputs": [],
   "source": [
    "def happyModel():\n",
    "    \"\"\"\n",
    "    -- TF Sequential model --  \n",
    "    \"\"\"\n",
    "    model = tf.keras.Sequential([\n",
    "        \n",
    "        tf.keras.Input(shape=input_shape),\n",
    "        \n",
    "        tfl.ZeroPadding2D(padding=3),\n",
    "        \n",
    "        tfl.Conv2D(filters=32, kernel_size=7, strides=1),\n",
    "        \n",
    "        tfl.BatchNormalization(axis=3, momentum=0.99, epsilon=0.001),\n",
    "        \n",
    "        tfl.ReLU(),\n",
    "        \n",
    "        tfl.MaxPool2D(),\n",
    "        \n",
    "        tfl.Flatten(),\n",
    "        \n",
    "        tfl.Dense(1, activation='sigmoid')\n",
    "    ])\n",
    "    \n",
    "    return model"
   ]
  },
  {
   "cell_type": "code",
   "execution_count": 9,
   "metadata": {
    "colab": {
     "base_uri": "https://localhost:8080/"
    },
    "id": "_m21ixiOm15m",
    "outputId": "f184502d-3b30-4fbe-fc14-65220703f09a"
   },
   "outputs": [
    {
     "name": "stdout",
     "output_type": "stream",
     "text": [
      "['ZeroPadding2D', (None, 70, 70, 3), 0, ((3, 3), (3, 3))]\n",
      "['Conv2D', (None, 64, 64, 32), 4736, 'valid', 'linear', 'GlorotUniform']\n",
      "['BatchNormalization', (None, 64, 64, 32), 128]\n",
      "['ReLU', (None, 64, 64, 32), 0]\n",
      "['MaxPooling2D', (None, 32, 32, 32), 0, (2, 2), (2, 2), 'valid']\n",
      "['Flatten', (None, 32768), 0]\n",
      "['Dense', (None, 1), 32769, 'sigmoid']\n"
     ]
    }
   ],
   "source": [
    "happy_model = happyModel()\n",
    "\n",
    "for layer in summary(happy_model):\n",
    "    print(layer)"
   ]
  },
  {
   "cell_type": "code",
   "execution_count": 10,
   "metadata": {
    "id": "MlHWZ9CNm5Jt"
   },
   "outputs": [],
   "source": [
    "# Compile the model\n",
    "happy_model.compile(optimizer='adam',\n",
    "                    loss='binary_crossentropy',\n",
    "                    metrics=['accuracy'])"
   ]
  },
  {
   "cell_type": "code",
   "execution_count": 11,
   "metadata": {
    "colab": {
     "base_uri": "https://localhost:8080/"
    },
    "id": "kQqmNixVm7Yh",
    "outputId": "9eedd6b5-2135-4124-8a66-74083d484ed4"
   },
   "outputs": [
    {
     "name": "stdout",
     "output_type": "stream",
     "text": [
      "Model: \"sequential\"\n",
      "_________________________________________________________________\n",
      "Layer (type)                 Output Shape              Param #   \n",
      "=================================================================\n",
      "zero_padding2d (ZeroPadding2 (None, 70, 70, 3)         0         \n",
      "_________________________________________________________________\n",
      "conv2d (Conv2D)              (None, 64, 64, 32)        4736      \n",
      "_________________________________________________________________\n",
      "batch_normalization (BatchNo (None, 64, 64, 32)        128       \n",
      "_________________________________________________________________\n",
      "re_lu (ReLU)                 (None, 64, 64, 32)        0         \n",
      "_________________________________________________________________\n",
      "max_pooling2d (MaxPooling2D) (None, 32, 32, 32)        0         \n",
      "_________________________________________________________________\n",
      "flatten (Flatten)            (None, 32768)             0         \n",
      "_________________________________________________________________\n",
      "dense (Dense)                (None, 1)                 32769     \n",
      "=================================================================\n",
      "Total params: 37,633\n",
      "Trainable params: 37,569\n",
      "Non-trainable params: 64\n",
      "_________________________________________________________________\n"
     ]
    }
   ],
   "source": [
    "# Summary of our sequential model\n",
    "happy_model.summary()"
   ]
  },
  {
   "cell_type": "code",
   "execution_count": 12,
   "metadata": {
    "colab": {
     "base_uri": "https://localhost:8080/"
    },
    "id": "al2B2F1Sm-fO",
    "outputId": "6b22c698-1b19-47f9-e314-a1772c52fcf8"
   },
   "outputs": [
    {
     "name": "stdout",
     "output_type": "stream",
     "text": [
      "Epoch 1/10\n",
      "38/38 [==============================] - 0s 7ms/step - loss: 1.5704 - accuracy: 0.6483\n",
      "Epoch 2/10\n",
      "38/38 [==============================] - 0s 6ms/step - loss: 0.2673 - accuracy: 0.8900\n",
      "Epoch 3/10\n",
      "38/38 [==============================] - 0s 6ms/step - loss: 0.2452 - accuracy: 0.8950\n",
      "Epoch 4/10\n",
      "38/38 [==============================] - 0s 6ms/step - loss: 0.1054 - accuracy: 0.9650\n",
      "Epoch 5/10\n",
      "38/38 [==============================] - 0s 6ms/step - loss: 0.0755 - accuracy: 0.9800\n",
      "Epoch 6/10\n",
      "38/38 [==============================] - 0s 6ms/step - loss: 0.0682 - accuracy: 0.9850\n",
      "Epoch 7/10\n",
      "38/38 [==============================] - 0s 6ms/step - loss: 0.0744 - accuracy: 0.9717\n",
      "Epoch 8/10\n",
      "38/38 [==============================] - 0s 6ms/step - loss: 0.0912 - accuracy: 0.9667\n",
      "Epoch 9/10\n",
      "38/38 [==============================] - 0s 6ms/step - loss: 0.2143 - accuracy: 0.9317\n",
      "Epoch 10/10\n",
      "38/38 [==============================] - 0s 6ms/step - loss: 0.4249 - accuracy: 0.8650\n"
     ]
    }
   ],
   "source": [
    "# Train the model\n",
    "happy_model.fit(X_train, Y_train, epochs=10, batch_size=16);"
   ]
  },
  {
   "cell_type": "code",
   "execution_count": 13,
   "metadata": {
    "colab": {
     "base_uri": "https://localhost:8080/"
    },
    "id": "3qK-E7VynANj",
    "outputId": "c02b344e-ab08-4f15-9de3-a57eba848040"
   },
   "outputs": [
    {
     "name": "stdout",
     "output_type": "stream",
     "text": [
      "5/5 [==============================] - 0s 10ms/step - loss: 1.4047 - accuracy: 0.6533\n"
     ]
    },
    {
     "data": {
      "text/plain": [
       "[1.4046655893325806, 0.653333306312561]"
      ]
     },
     "execution_count": 13,
     "metadata": {},
     "output_type": "execute_result"
    }
   ],
   "source": [
    "# Test our model on the test set\n",
    "happy_model.evaluate(X_test, Y_test)"
   ]
  },
  {
   "cell_type": "markdown",
   "metadata": {
    "id": "GQqjiQGwYSxd"
   },
   "source": [
    "## Functional API\n",
    "\n",
    "**Task:** create a model to recognize sign language digits.\n",
    "\n",
    "**Functional API in a nutshell:** The functional API can handle models with non-linear topology, shared layers, and even multiple inputs or outputs."
   ]
  },
  {
   "cell_type": "markdown",
   "metadata": {},
   "source": [
    "### Prepare the data"
   ]
  },
  {
   "cell_type": "code",
   "execution_count": 14,
   "metadata": {
    "id": "mQquaBuSYVTQ"
   },
   "outputs": [],
   "source": [
    "# Load the dataset\n",
    "X_train_sign_orig, Y_train_sign_orig, X_test_sign_orig, Y_test_sign_orig, classes_sign = load_signs_dataset()"
   ]
  },
  {
   "cell_type": "code",
   "execution_count": 15,
   "metadata": {
    "id": "FKSt1L5FY6lb"
   },
   "outputs": [],
   "source": [
    "# Normalize dataset\n",
    "X_train_sign = X_train_sign_orig/255\n",
    "X_test_sign = X_test_sign_orig/255\n",
    "\n",
    "# One-hot-encode the vectors\n",
    "Y_train_sign = convert_to_one_hot(Y_train_sign_orig, 6).T\n",
    "Y_test_sign = convert_to_one_hot(Y_test_sign_orig, 6).T"
   ]
  },
  {
   "cell_type": "code",
   "execution_count": 16,
   "metadata": {
    "colab": {
     "base_uri": "https://localhost:8080/",
     "height": 285
    },
    "id": "zMfjj6ATEg73",
    "outputId": "8e0696b9-1b63-4083-900f-dc9271a75d7f"
   },
   "outputs": [
    {
     "data": {
      "image/png": "[encoded data removed]",
      "text/plain": [
       "<Figure size 432x288 with 1 Axes>"
      ]
     },
     "metadata": {
      "needs_background": "light"
     },
     "output_type": "display_data"
    }
   ],
   "source": [
    "# View an image from our training set\n",
    "plt.imshow(X_train_sign_orig[1]);"
   ]
  },
  {
   "cell_type": "code",
   "execution_count": 17,
   "metadata": {
    "colab": {
     "base_uri": "https://localhost:8080/"
    },
    "id": "dFOPILpFEbWX",
    "outputId": "8f5e9620-e420-405a-bfac-85b26c309b92"
   },
   "outputs": [
    {
     "data": {
      "text/plain": [
       "array([1., 0., 0., 0., 0., 0.])"
      ]
     },
     "execution_count": 17,
     "metadata": {},
     "output_type": "execute_result"
    }
   ],
   "source": [
    "# Label of our image \n",
    "Y_train_sign[1]"
   ]
  },
  {
   "cell_type": "code",
   "execution_count": 18,
   "metadata": {
    "colab": {
     "base_uri": "https://localhost:8080/"
    },
    "id": "0qGD8Le_ZnaH",
    "outputId": "2df7e45f-9b38-4a0c-bf65-b8a69c1c4746"
   },
   "outputs": [
    {
     "name": "stdout",
     "output_type": "stream",
     "text": [
      "Number of training examples: 1080\n",
      "Number of test examples: 120\n",
      "Train to test examples ratio: 9.0\n"
     ]
    }
   ],
   "source": [
    "print(\"Number of training examples:\", X_train_sign.shape[0])\n",
    "print(\"Number of test examples:\", X_test_sign.shape[0])\n",
    "print(\"Train to test examples ratio:\", X_train_sign.shape[0]/X_test_sign.shape[0])"
   ]
  },
  {
   "cell_type": "code",
   "execution_count": 19,
   "metadata": {
    "id": "5D-JkxI0aHLV"
   },
   "outputs": [],
   "source": [
    "def convolutional_model(input_shape):\n",
    "    \"\"\"\n",
    "    Implements forward propagation of a ConvNet to identify sign language digits \n",
    "    using the TensorFlow Keras Functional API\n",
    "\n",
    "    Arguments:\n",
    "    -- input_shape: shape of input vector for the input node\n",
    "\n",
    "    Returns:\n",
    "    -- model: TF Keras model (object containing the information for the entire training process)\n",
    "    \"\"\"\n",
    "\n",
    "    # Input node\n",
    "    input_img = tf.keras.Input(shape=input_shape)\n",
    "  \n",
    "    # Convolution step with 8 filters and each kernel of 4 * 4 dim.\n",
    "    Z1 = tfl.Conv2D(filters = 8, kernel_size=4, padding='same', strides=1)(input_img)\n",
    "  \n",
    "    # Compute elementwise ReLU\n",
    "    A1 = tfl.ReLU()(Z1)\n",
    "  \n",
    "    # Applying pooling \n",
    "    P1 = tfl.MaxPool2D(pool_size=8, strides=8, padding='SAME')(A1)\n",
    "\n",
    "    Z2 = tfl.Conv2D(filters = 16, kernel_size=2, padding='same', strides=1)(P1)\n",
    "    A2 = tfl.ReLU()(Z2)\n",
    "    P2 = tfl.MaxPool2D(pool_size=4, strides=4, padding=\"SAME\")(A2)\n",
    "  \n",
    "    # Flatten each training or test examples into a 1D vector Ex: (batch, h, w, c) --> (batch, h*w*c)\n",
    "    F = tfl.Flatten()(P2)\n",
    "\n",
    "    # Fully connected layer - automatically intializes the weights, and has 6 units in the layer for each digit\n",
    "    outputs = tfl.Dense(units=6, activation='softmax')(F)\n",
    "  \n",
    "    model = tf.keras.Model(inputs=input_img, outputs=outputs)\n",
    "\n",
    "    return model"
   ]
  },
  {
   "cell_type": "code",
   "execution_count": 20,
   "metadata": {
    "colab": {
     "base_uri": "https://localhost:8080/"
    },
    "id": "wnZyeVxCNmWX",
    "outputId": "ea2b4119-5657-44dd-8558-5a52302c1529"
   },
   "outputs": [],
   "source": [
    "# Shape of input vector\n",
    "input_shape_sld = X_train_sign.shape[1:]"
   ]
  },
  {
   "cell_type": "code",
   "execution_count": 21,
   "metadata": {
    "colab": {
     "base_uri": "https://localhost:8080/"
    },
    "id": "TOb1hZmWMuho",
    "outputId": "c32abd71-0b3b-4f89-fc1b-675ac09e9e71"
   },
   "outputs": [
    {
     "name": "stdout",
     "output_type": "stream",
     "text": [
      "Model: \"functional_1\"\n",
      "_________________________________________________________________\n",
      "Layer (type)                 Output Shape              Param #   \n",
      "=================================================================\n",
      "input_2 (InputLayer)         [(None, 64, 64, 3)]       0         \n",
      "_________________________________________________________________\n",
      "conv2d_1 (Conv2D)            (None, 64, 64, 8)         392       \n",
      "_________________________________________________________________\n",
      "re_lu_1 (ReLU)               (None, 64, 64, 8)         0         \n",
      "_________________________________________________________________\n",
      "max_pooling2d_1 (MaxPooling2 (None, 8, 8, 8)           0         \n",
      "_________________________________________________________________\n",
      "conv2d_2 (Conv2D)            (None, 8, 8, 16)          528       \n",
      "_________________________________________________________________\n",
      "re_lu_2 (ReLU)               (None, 8, 8, 16)          0         \n",
      "_________________________________________________________________\n",
      "max_pooling2d_2 (MaxPooling2 (None, 2, 2, 16)          0         \n",
      "_________________________________________________________________\n",
      "flatten_1 (Flatten)          (None, 64)                0         \n",
      "_________________________________________________________________\n",
      "dense_1 (Dense)              (None, 6)                 390       \n",
      "=================================================================\n",
      "Total params: 1,310\n",
      "Trainable params: 1,310\n",
      "Non-trainable params: 0\n",
      "_________________________________________________________________\n"
     ]
    }
   ],
   "source": [
    "conv_model = convolutional_model(input_shape_sld)\n",
    "conv_model.compile(optimizer='adam', loss='categorical_crossentropy', metrics=['accuracy'])\n",
    "conv_model.summary()"
   ]
  },
  {
   "cell_type": "code",
   "execution_count": 22,
   "metadata": {
    "colab": {
     "base_uri": "https://localhost:8080/"
    },
    "id": "4y7XpwTjOCrY",
    "outputId": "ef06a6c9-d743-4c02-ed75-56158ad6f040"
   },
   "outputs": [],
   "source": [
    "train_dataset = tf.data.Dataset.from_tensor_slices((X_train_sign, Y_train_sign)).batch(64)\n",
    "# Validation data\n",
    "test_dataset = tf.data.Dataset.from_tensor_slices((X_test_sign, Y_test_sign)).batch(64)\n",
    "history = conv_model.fit(train_dataset, epochs=100, validation_data=test_dataset, verbose=0)"
   ]
  },
  {
   "cell_type": "code",
   "execution_count": 23,
   "metadata": {
    "colab": {
     "base_uri": "https://localhost:8080/",
     "height": 1000
    },
    "id": "_QYE3wzBjql1",
    "outputId": "cbf0046a-dabe-43b8-e261-ceabd90d27c3",
    "scrolled": false
   },
   "outputs": [
    {
     "name": "stderr",
     "output_type": "stream",
     "text": [
      "D:\\Shaikh\\Subjects of interest\\1-Computer Science\\13-Deep Learning\\Projects\\env\\lib\\site-packages\\pandas\\core\\frame.py:4441: SettingWithCopyWarning: \n",
      "A value is trying to be set on a copy of a slice from a DataFrame\n",
      "\n",
      "See the caveats in the documentation: https://pandas.pydata.org/pandas-docs/stable/user_guide/indexing.html#returning-a-view-versus-a-copy\n",
      "  return super().rename(\n"
     ]
    },
    {
     "data": {
      "image/png": "[encoded data removed]",
      "text/plain": [
       "<Figure size 864x576 with 1 Axes>"
      ]
     },
     "metadata": {
      "needs_background": "light"
     },
     "output_type": "display_data"
    },
    {
     "data": {
      "image/png": "[encoded data removed]",
      "text/plain": [
       "<Figure size 864x576 with 1 Axes>"
      ]
     },
     "metadata": {
      "needs_background": "light"
     },
     "output_type": "display_data"
    }
   ],
   "source": [
    "# Loss\n",
    "df_loss_acc = pd.DataFrame(history.history)\n",
    "df_loss = df_loss_acc[['loss', 'val_loss']]\n",
    "df_loss.rename(columns={'loss': 'train', 'val_loss': 'validation'}, inplace=True)\n",
    "\n",
    "# Accuracy\n",
    "df_acc = df_loss_acc[['accuracy', 'val_accuracy']]\n",
    "df_acc.rename(columns={'accuracy': 'train', 'val_accuracy': 'validation'}, inplace=True)\n",
    "\n",
    "# Plot model loss and accuracy\n",
    "df_loss.plot(title='Model Loss', figsize=(12, 8)).set(xlabel=\"Epoch\", ylabel=\"Loss\")\n",
    "df_acc.plot(title='Model Accuracy', figsize=(12, 8)).set(xlabel=\"Epoch\", ylabel=\"Accuracy\");"
   ]
  }
 ],
 "metadata": {
  "colab": {
   "collapsed_sections": [],
   "name": "CNNs-with-Tensorflow-GC.ipynb",
   "provenance": []
  },
  "kernelspec": {
   "display_name": "Python 3",
   "language": "python",
   "name": "python3"
  },
  "language_info": {
   "codemirror_mode": {
    "name": "ipython",
    "version": 3
   },
   "file_extension": ".py",
   "mimetype": "text/x-python",
   "name": "python",
   "nbconvert_exporter": "python",
   "pygments_lexer": "ipython3",
   "version": "3.8.0"
  }
 },
 "nbformat": 4,
 "nbformat_minor": 1
}
